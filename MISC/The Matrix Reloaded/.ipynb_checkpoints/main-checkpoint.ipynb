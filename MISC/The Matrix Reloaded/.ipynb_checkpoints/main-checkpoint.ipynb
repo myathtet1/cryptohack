{
 "cells": [
  {
   "cell_type": "code",
   "execution_count": 55,
   "metadata": {
    "scrolled": true
   },
   "outputs": [
    {
     "name": "stdout",
     "output_type": "stream",
     "text": [
      "True\n",
      "1393557513115841241014103202576491648608895545404095678114831085161303128985677794880038696646028182175130683969216515107483625076469183523286747798351694\n",
      "13246077028075068832704675300980872922311117040491683745322425960855124946791172129277375003218844951831636002174594669422627451370848797452775677834503158\n",
      "12874005006469938806830638201301472753963735922955425007645373426380126563869547278613581603998709694232428802807959551867326334714657719023296993057972898\n",
      "10586899494755618418480828029984930476257772457465453192519162903910076766226681607817229310627831326558418415884781335288853410050874026300845918656368135\n",
      "5959805911241109643914928800631944794321671043586961836890946136294554770507810148857251869110638484873235200204605081157845088692257708370810040562721345\n",
      "True\n"
     ]
    },
    {
     "ename": "NameError",
     "evalue": "name 'bytes_fromhex' is not defined",
     "output_type": "error",
     "traceback": [
      "\u001b[0;31m---------------------------------------------------------------------------\u001b[0m",
      "\u001b[0;31mNameError\u001b[0m                                 Traceback (most recent call last)",
      "\u001b[0;32m<ipython-input-55-7773b11b13eb>\u001b[0m in \u001b[0;36m<module>\u001b[0;34m\u001b[0m\n\u001b[1;32m     61\u001b[0m \u001b[0;34m\u001b[0m\u001b[0m\n\u001b[1;32m     62\u001b[0m \u001b[0mdata\u001b[0m \u001b[0;34m=\u001b[0m \u001b[0;34m{\u001b[0m\u001b[0;34m\"iv\"\u001b[0m\u001b[0;34m:\u001b[0m \u001b[0;34m\"334b1ceb2ce0d1bef2af9937cf82aad6\"\u001b[0m\u001b[0;34m,\u001b[0m \u001b[0;34m\"ciphertext\"\u001b[0m\u001b[0;34m:\u001b[0m \u001b[0;34m\"543e29415bdb1f694a705b2532a5beb7ebd7009591503ef3c4fbcebf9e62fe91307e5d98efcd49f9f3b1985956cafc89\"\u001b[0m\u001b[0;34m}\u001b[0m\u001b[0;34m\u001b[0m\u001b[0;34m\u001b[0m\u001b[0m\n\u001b[0;32m---> 63\u001b[0;31m \u001b[0mcipher\u001b[0m \u001b[0;34m=\u001b[0m \u001b[0mAES\u001b[0m\u001b[0;34m.\u001b[0m\u001b[0mnew\u001b[0m\u001b[0;34m(\u001b[0m\u001b[0mKEY\u001b[0m\u001b[0;34m,\u001b[0m \u001b[0mAES\u001b[0m\u001b[0;34m.\u001b[0m\u001b[0mMODE_CBC\u001b[0m\u001b[0;34m,\u001b[0m \u001b[0mbytes_fromhex\u001b[0m\u001b[0;34m(\u001b[0m\u001b[0mdata\u001b[0m\u001b[0;34m[\u001b[0m\u001b[0;34m\"iv\"\u001b[0m\u001b[0;34m]\u001b[0m\u001b[0;34m)\u001b[0m\u001b[0;34m)\u001b[0m\u001b[0;34m\u001b[0m\u001b[0;34m\u001b[0m\u001b[0m\n\u001b[0m\u001b[1;32m     64\u001b[0m \u001b[0mprint\u001b[0m\u001b[0;34m(\u001b[0m\u001b[0mcipher\u001b[0m\u001b[0;34m.\u001b[0m\u001b[0mdecrypt\u001b[0m\u001b[0;34m(\u001b[0m\u001b[0mbytes_fromhex\u001b[0m\u001b[0;34m(\u001b[0m\u001b[0mdata\u001b[0m\u001b[0;34m[\u001b[0m\u001b[0;34m\"ciphertext\"\u001b[0m\u001b[0;34m]\u001b[0m\u001b[0;34m)\u001b[0m\u001b[0;34m)\u001b[0m\u001b[0;34m)\u001b[0m\u001b[0;34m\u001b[0m\u001b[0;34m\u001b[0m\u001b[0m\n",
      "\u001b[0;31mNameError\u001b[0m: name 'bytes_fromhex' is not defined"
     ]
    }
   ],
   "source": [
    "from Crypto.Cipher import AES\n",
    "from Crypto.Hash import SHA256\n",
    "from Crypto.Util.number import *\n",
    "from Crypto.Util.Padding import pad, unpad\n",
    "from scipy import linalg\n",
    "import json\n",
    "from os import urandom\n",
    "\n",
    "FLAG = b'crypto{?????????????????????????????????????}'\n",
    "\n",
    "P = 13322168333598193507807385110954579994440518298037390249219367653433362879385570348589112466639563190026187881314341273227495066439490025867330585397455471\n",
    "N = 30\n",
    "\n",
    "def load_matrix(fname):\n",
    "    data = open(fname, 'r').read().strip()\n",
    "    rows = [list(map(int, row.split(' '))) for row in data.splitlines()]\n",
    "    return Matrix(GF(P), rows)\n",
    "\n",
    "def length_vector(v):\n",
    "    s = 0\n",
    "    for i in range(len(v)):\n",
    "        s = (s + v[i] ** 2) % P\n",
    "    s = pow(s, (P + 1) >> 2, P)\n",
    "    return s\n",
    "    \n",
    "G = load_matrix(\"generator.txt\")\n",
    "file = open(\"output.txt\", \"r\")\n",
    "data = file.read()\n",
    "data = json.loads(data)\n",
    "v = data['v']\n",
    "w = data['w']\n",
    "\n",
    "v = vector(GF(P), v)\n",
    "w = vector(GF(P), w)\n",
    "\n",
    "D, Q = G.jordan_form(transformation=True)\n",
    "print(Q*D*Q.inverse() == G)\n",
    "\n",
    "x = Q.inverse()*v\n",
    "y = Q.inverse()*w\n",
    "lamda = D[28, 28]\n",
    "print(x[28])\n",
    "print(y[28])\n",
    "print(x[29])\n",
    "print(y[29])\n",
    "x28 = 1393557513115841241014103202576491648608895545404095678114831085161303128985677794880038696646028182175130683969216515107483625076469183523286747798351694\n",
    "y28 = 13246077028075068832704675300980872922311117040491683745322425960855124946791172129277375003218844951831636002174594669422627451370848797452775677834503158\n",
    "x29 = 12874005006469938806830638201301472753963735922955425007645373426380126563869547278613581603998709694232428802807959551867326334714657719023296993057972898\n",
    "y29 = 10586899494755618418480828029984930476257772457465453192519162903910076766226681607817229310627831326558418415884781335288853410050874026300845918656368135\n",
    "\n",
    "x29_inv = inverse(x29, P)\n",
    "y29_inv = inverse(y29, P)\n",
    "SECRET = lamda * y29_inv * (y28 - x28 * y29 * x29_inv)\n",
    "print(SECRET)\n",
    "\n",
    "KEY_LENGTH = 128\n",
    "KEY = SHA256.new(data=str(SECRET).encode()).digest()[:KEY_LENGTH]\n",
    "\n",
    "data = {\"iv\": \"334b1ceb2ce0d1bef2af9937cf82aad6\", \"ciphertext\": \"543e29415bdb1f694a705b2532a5beb7ebd7009591503ef3c4fbcebf9e62fe91307e5d98efcd49f9f3b1985956cafc89\"}\n",
    "cipher = AES.new(KEY, AES.MODE_CBC, bytes.fromhex(data[\"iv\"]))\n",
    "print(cipher.decrypt(bytes.fromhex(data[\"ciphertext\"])))"
   ]
  },
  {
   "cell_type": "code",
   "execution_count": null,
   "metadata": {},
   "outputs": [],
   "source": []
  }
 ],
 "metadata": {
  "kernelspec": {
   "display_name": "SageMath 9.3",
   "language": "sage",
   "name": "sagemath"
  },
  "language_info": {
   "codemirror_mode": {
    "name": "ipython",
    "version": 3
   },
   "file_extension": ".py",
   "mimetype": "text/x-python",
   "name": "python",
   "nbconvert_exporter": "python",
   "pygments_lexer": "ipython3",
   "version": "3.7.10"
  }
 },
 "nbformat": 4,
 "nbformat_minor": 4
}
