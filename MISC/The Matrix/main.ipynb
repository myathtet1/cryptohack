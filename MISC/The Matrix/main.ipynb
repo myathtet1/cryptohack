{
 "cells": [
  {
   "cell_type": "code",
   "execution_count": 42,
   "metadata": {},
   "outputs": [
    {
     "name": "stdout",
     "output_type": "stream",
     "text": [
      "b'crypto{there_is_no_spoon_66eff188}'\n"
     ]
    }
   ],
   "source": [
    "from Crypto.Util.number import  long_to_bytes, inverse\n",
    "P = 2\n",
    "N = 50\n",
    "E = 31337\n",
    "\n",
    "FLAG = b'crypto{??????????????????????????}'\n",
    "\n",
    "def bytes_to_binary(s):\n",
    "    bin_str = ''.join(format(b, '08b') for b in s)\n",
    "    bits = [int(c) for c in bin_str]\n",
    "    return bits\n",
    "\n",
    "def load_matrix(fname):\n",
    "    data = open(fname, 'r').read().strip()\n",
    "    rows = [list(map(int, row)) for row in data.splitlines()]\n",
    "    return Matrix(GF(P), rows)\n",
    "\n",
    "mat = load_matrix(\"flag_403b981c77d39217c20390c1729b15f0.enc\")\n",
    "mat2 = mat^inverse(E, mat.multiplicative_order())\n",
    "flag = \"\"\n",
    "for j in range(N):\n",
    "    for i in range(N):\n",
    "        flag += str(mat2[i, j])\n",
    "for i in range(8, len(flag), 8):\n",
    "    s = long_to_bytes(int(flag[:i], 2))\n",
    "    if b'}' in s:\n",
    "        print(s)\n",
    "        break"
   ]
  },
  {
   "cell_type": "code",
   "execution_count": null,
   "metadata": {},
   "outputs": [],
   "source": []
  }
 ],
 "metadata": {
  "kernelspec": {
   "display_name": "SageMath 9.3",
   "language": "sage",
   "name": "sagemath"
  },
  "language_info": {
   "codemirror_mode": {
    "name": "ipython",
    "version": 3
   },
   "file_extension": ".py",
   "mimetype": "text/x-python",
   "name": "python",
   "nbconvert_exporter": "python",
   "pygments_lexer": "ipython3",
   "version": "3.7.10"
  }
 },
 "nbformat": 4,
 "nbformat_minor": 4
}
