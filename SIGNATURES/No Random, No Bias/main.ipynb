{
 "cells": [
  {
   "cell_type": "code",
   "execution_count": 35,
   "metadata": {},
   "outputs": [
    {
     "name": "stdout",
     "output_type": "stream",
     "text": [
      "110104254168941847244659959021870001852301044662581657616531508669991620749093\n",
      "110104254168941847244659959021870001852301044662581657616531508669991620749093\n"
     ]
    }
   ],
   "source": [
    "from hashlib import sha1\n",
    "from Crypto.Util.number import bytes_to_long, long_to_bytes, isPrime\n",
    "from my_library import inverse_modulo\n",
    "\n",
    "sig1 = {'msg': 'I have hidden the secret flag as a point of an elliptic curve using my private key.', 'r': '0x91f66ac7557233b41b3044ab9daf0ad891a8ffcaf99820c3cd8a44fc709ed3ae', 's': '0x1dd0a378454692eb4ad68c86732404af3e73c6bf23a8ecc5449500fcab05208d'}\n",
    "sig2 = {'msg': 'The discrete logarithm problem is very hard to solve, so it will remain a secret forever.', 'r': '0xe8875e56b79956d446d24f06604b7705905edac466d5469f815547dea7a3171c', 's': '0x582ecf967e0e3acf5e3853dbe65a84ba59c3ec8a43951bcff08c64cb614023f8'}\n",
    "sig3 = {'msg': 'Good luck!', 'r': '0x566ce1db407edae4f32a20defc381f7efb63f712493c3106cf8e85f464351ca6', 's': '0x9e4304a36d2c83ef94e19a60fb98f659fa874bfb999712ceb58382e2ccda26ba'}\n",
    "h1 = bytes_to_long(sha1(sig1['msg'].encode()).digest())\n",
    "h2 = bytes_to_long(sha1(sig2['msg'].encode()).digest())\n",
    "h3 = bytes_to_long(sha1(sig3['msg'].encode()).digest())\n",
    "r1 = int(sig1['r'], 16)\n",
    "s1 = int(sig1['s'], 16)\n",
    "r2 = int(sig2['r'], 16)\n",
    "s2 = int(sig2['s'], 16)\n",
    "r3 = int(sig3['r'], 16)\n",
    "s3 = int(sig3['s'], 16)\n",
    "M = Matrix(ZZ, 5, 5)\n",
    "B = 1461501637330902918203684832716283019655932542975\n",
    "q = 115792089210356248762697446949407573529996955224135760342422259061068512044369\n",
    "for i in range(3):\n",
    "    M[i, i] = q\n",
    "M[3, 0] = inverse_modulo(s1, q) * r1 % q\n",
    "M[3, 1] = inverse_modulo(s2, q) * r2 % q\n",
    "M[3, 2] = inverse_modulo(s3, q) * r3 % q\n",
    "M[3, 3] = B // q\n",
    "\n",
    "M[4, 0] = q - inverse_modulo(s1, q) * h1 % q\n",
    "M[4, 1] = q - inverse_modulo(s2, q) * h2 % q\n",
    "M[4, 2] = q - inverse_modulo(s3, q) * h3 % q\n",
    "M[4, 4] = B\n",
    "# print(M)\n",
    "\n",
    "M2 = M.LLL(delta=None, eta=None, algorithm='fpLLL:wrapper', fp=None, prec=0, early_red=False, use_givens=False, use_siegel=False, transformation=False)\n",
    "# print(M2)\n",
    "k1 = (q - M2[1, 0]) % q\n",
    "k2 = (q - M2[1, 1]) % q\n",
    "k3 = (q - M2[1, 2]) % q\n",
    "print((k1 - inverse_modulo(s1, q) * h1) * inverse_modulo(r1, q) * s1 % q)\n",
    "print((k2 - inverse_modulo(s2, q) * h2) * inverse_modulo(r2, q) * s2 % q)"
   ]
  },
  {
   "cell_type": "code",
   "execution_count": null,
   "metadata": {},
   "outputs": [],
   "source": []
  }
 ],
 "metadata": {
  "kernelspec": {
   "display_name": "SageMath 9.3",
   "language": "sage",
   "name": "sagemath"
  },
  "language_info": {
   "codemirror_mode": {
    "name": "ipython",
    "version": 3
   },
   "file_extension": ".py",
   "mimetype": "text/x-python",
   "name": "python",
   "nbconvert_exporter": "python",
   "pygments_lexer": "ipython3",
   "version": "3.7.10"
  }
 },
 "nbformat": 4,
 "nbformat_minor": 4
}
