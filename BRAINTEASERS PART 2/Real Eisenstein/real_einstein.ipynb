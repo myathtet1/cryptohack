{
 "cells": [
  {
   "cell_type": "code",
   "execution_count": 1,
   "metadata": {},
   "outputs": [
    {
     "name": "stdout",
     "output_type": "stream",
     "text": [
      "3 b'crypto{r34l_t0_23D_m4p}\\x00\\x00\\x00\\x00'\n",
      "8 b'crypto{r34l_t0_23D_m4p}\\x00\\x00\\x00\\x00'\n"
     ]
    }
   ],
   "source": [
    "import math\n",
    "from decimal import *\n",
    "import numpy\n",
    "getcontext().prec = int(100)\n",
    "\n",
    "FLAG = \"crypto{???????????????}\"\n",
    "PRIMES = [2, 3, 5, 7, 11, 13, 17, 19, 23, 29, 31, 37, 41, 43, 47, 53, 59, 61, 67, 71, 73, 79, 83, 89, 97, 101, 103]\n",
    "\n",
    "ciphertext = 1350995397927355657956786955603012410260017344805998076702828160316695004588429433\n",
    "\n",
    "keys = []\n",
    "for p in PRIMES:\n",
    "    keys.append(Decimal(int(p)).sqrt())\n",
    "\n",
    "arr = []\n",
    "for k in keys:\n",
    "    arr.append(int(k * int(16) ** int(64)))\n",
    "\n",
    "\n",
    "def encrypt(res):\n",
    "    h = Decimal(int(0))\n",
    "    for i in range(len(keys)):\n",
    "        h += res[i] * keys[i]\n",
    "    ct = int(h * int(16) ** int(64))\n",
    "    return ct\n",
    "\n",
    "\n",
    "def f(N):\n",
    "    size = len(arr)\n",
    "    A = Matrix(ZZ, size + 1, size + 1)\n",
    "    for i in range(size):\n",
    "        A[i, i] = 1\n",
    "        A[i, size] = arr[i] // N\n",
    "        A[size, i] = 64\n",
    "\n",
    "    A[size, size] = ciphertext // N\n",
    "    res = A.LLL()\n",
    "\n",
    "    for i in range(size + 1):\n",
    "        flag = True\n",
    "        for j in range(size):\n",
    "            if -64 <= res[i][j] < 64:\n",
    "                continue\n",
    "            flag = FLAG\n",
    "            break\n",
    "        if flag:\n",
    "            vec = [int(v + 64) for v in res[i][:-1]]\n",
    "            ret = encrypt(vec)\n",
    "            if ret == ciphertext:\n",
    "                print(N, bytes(vec))\n",
    "\n",
    "\n",
    "for i in range(1, 10):\n",
    "    f(i)"
   ]
  },
  {
   "cell_type": "code",
   "execution_count": null,
   "metadata": {},
   "outputs": [],
   "source": []
  }
 ],
 "metadata": {
  "kernelspec": {
   "display_name": "SageMath 9.3",
   "language": "sage",
   "name": "sagemath"
  },
  "language_info": {
   "codemirror_mode": {
    "name": "ipython",
    "version": 3
   },
   "file_extension": ".py",
   "mimetype": "text/x-python",
   "name": "python",
   "nbconvert_exporter": "python",
   "pygments_lexer": "ipython3",
   "version": "3.7.10"
  }
 },
 "nbformat": 4,
 "nbformat_minor": 4
}
